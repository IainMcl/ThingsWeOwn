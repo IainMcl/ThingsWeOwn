{
 "cells": [
  {
   "cell_type": "markdown",
   "metadata": {},
   "source": [
    "# Things we own database"
   ]
  },
  {
   "cell_type": "markdown",
   "metadata": {},
   "source": [
    "Postgress database to keep inventory of all of the things that we own in preparation for moving.\n",
    "\n",
    "Schema design saved on [DBDesigner](https://app.dbdesigner.net/designer/schema/401855)."
   ]
  },
  {
   "cell_type": "code",
   "execution_count": 1,
   "metadata": {},
   "outputs": [],
   "source": [
    "# imports\n",
    "import psycopg2\n",
    "import pandas as pd\n",
    "from contextlib import contextmanager"
   ]
  },
  {
   "source": [
    "**Variables**\n",
    "\n",
    "Declaring databse variables to allow for connection."
   ],
   "cell_type": "markdown",
   "metadata": {}
  },
  {
   "cell_type": "code",
   "execution_count": 2,
   "metadata": {},
   "outputs": [],
   "source": [
    "# Variables\n",
    "database = \"House\"\n",
    "user = \"iainmcl\"\n",
    "password = \"empire\"\n",
    "host = \"127.0.0.1\"\n",
    "port = \"5433\""
   ]
  },
  {
   "source": [
    "## Context manager\n",
    "\n",
    "Create a context manager to handle connection to the postgres database and ensure that it is closed."
   ],
   "cell_type": "markdown",
   "metadata": {}
  },
  {
   "cell_type": "code",
   "execution_count": 3,
   "metadata": {},
   "outputs": [],
   "source": [
    "# Database context manger\n",
    "@contextmanager\n",
    "def connect(database=database, user=user, password=password, host=host, port=port):\n",
    "    conn = psycopg2.connect(database=database, user=user, password=password, host=host, port=port)\n",
    "    try:\n",
    "        yield conn\n",
    "    finally: \n",
    "        conn.close()"
   ]
  },
  {
   "source": [
    "## Setup functions\n",
    "\n",
    "- Create tables\n",
    "- Execute script"
   ],
   "cell_type": "markdown",
   "metadata": {}
  },
  {
   "cell_type": "code",
   "execution_count": 10,
   "metadata": {},
   "outputs": [],
   "source": [
    "def execute_script(cur, script):\n",
    "    with open(script) as s:\n",
    "        query = s.read()\n",
    "        cur.execute(query)"
   ]
  },
  {
   "cell_type": "code",
   "execution_count": 11,
   "metadata": {},
   "outputs": [],
   "source": [
    "def create_tables(sql_path=\"./scripts/HouseMoving_postgres_create.sql\"):\n",
    "    with connect() as conn:\n",
    "        cur = conn.cursor()\n",
    "        execute_script(cur, sql_path)\n",
    "        conn.commit()"
   ]
  },
  {
   "source": [
    "## Select functions\n",
    "\n",
    "- Select all\n"
   ],
   "cell_type": "markdown",
   "metadata": {}
  },
  {
   "cell_type": "code",
   "execution_count": 12,
   "metadata": {},
   "outputs": [],
   "source": [
    "def select_all(table_name=\"Items\", outfile=False):\n",
    "    with connect() as conn:\n",
    "        cur = conn.cursor()\n",
    "        execute_script(cur, \"./scripts/select_all.sql\")\n",
    "        data = cur.fetchall()\n",
    "    print(data)        "
   ]
  },
  {
   "cell_type": "code",
   "execution_count": 13,
   "metadata": {},
   "outputs": [],
   "source": [
    "def drop_all():\n",
    "    with connect() as conn:\n",
    "        cur = conn.cursor()\n",
    "        execute_script(cur, \"./scripts/drop_all.sql\")\n",
    "        conn.commit()"
   ]
  },
  {
   "cell_type": "code",
   "execution_count": 14,
   "metadata": {},
   "outputs": [],
   "source": [
    "try:\n",
    "    drop_all()\n",
    "except Exception as e:\n",
    "    print(\"Table already dropped.\")\n",
    "    print(\"\\t-\", e)"
   ]
  },
  {
   "cell_type": "code",
   "execution_count": 22,
   "metadata": {},
   "outputs": [
    {
     "output_type": "error",
     "ename": "InvalidForeignKey",
     "evalue": "there is no unique constraint matching given keys for referenced table \"House\"\n",
     "traceback": [
      "\u001b[1;31m---------------------------------------------------------------------------\u001b[0m",
      "\u001b[1;31mInvalidForeignKey\u001b[0m                         Traceback (most recent call last)",
      "\u001b[1;32m<ipython-input-22-ba50e7c701d0>\u001b[0m in \u001b[0;36m<module>\u001b[1;34m\u001b[0m\n\u001b[1;32m----> 1\u001b[1;33m \u001b[0mcreate_tables\u001b[0m\u001b[1;33m(\u001b[0m\u001b[1;33m)\u001b[0m\u001b[1;33m\u001b[0m\u001b[1;33m\u001b[0m\u001b[0m\n\u001b[0m",
      "\u001b[1;32m<ipython-input-11-79a35546c216>\u001b[0m in \u001b[0;36mcreate_tables\u001b[1;34m(sql_path)\u001b[0m\n\u001b[0;32m      2\u001b[0m     \u001b[1;32mwith\u001b[0m \u001b[0mconnect\u001b[0m\u001b[1;33m(\u001b[0m\u001b[1;33m)\u001b[0m \u001b[1;32mas\u001b[0m \u001b[0mconn\u001b[0m\u001b[1;33m:\u001b[0m\u001b[1;33m\u001b[0m\u001b[1;33m\u001b[0m\u001b[0m\n\u001b[0;32m      3\u001b[0m         \u001b[0mcur\u001b[0m \u001b[1;33m=\u001b[0m \u001b[0mconn\u001b[0m\u001b[1;33m.\u001b[0m\u001b[0mcursor\u001b[0m\u001b[1;33m(\u001b[0m\u001b[1;33m)\u001b[0m\u001b[1;33m\u001b[0m\u001b[1;33m\u001b[0m\u001b[0m\n\u001b[1;32m----> 4\u001b[1;33m         \u001b[0mexecute_script\u001b[0m\u001b[1;33m(\u001b[0m\u001b[0mcur\u001b[0m\u001b[1;33m,\u001b[0m \u001b[0msql_path\u001b[0m\u001b[1;33m)\u001b[0m\u001b[1;33m\u001b[0m\u001b[1;33m\u001b[0m\u001b[0m\n\u001b[0m\u001b[0;32m      5\u001b[0m         \u001b[0mconn\u001b[0m\u001b[1;33m.\u001b[0m\u001b[0mcommit\u001b[0m\u001b[1;33m(\u001b[0m\u001b[1;33m)\u001b[0m\u001b[1;33m\u001b[0m\u001b[1;33m\u001b[0m\u001b[0m\n",
      "\u001b[1;32m<ipython-input-10-ce84cc3ab456>\u001b[0m in \u001b[0;36mexecute_script\u001b[1;34m(cur, script)\u001b[0m\n\u001b[0;32m      2\u001b[0m     \u001b[1;32mwith\u001b[0m \u001b[0mopen\u001b[0m\u001b[1;33m(\u001b[0m\u001b[0mscript\u001b[0m\u001b[1;33m)\u001b[0m \u001b[1;32mas\u001b[0m \u001b[0ms\u001b[0m\u001b[1;33m:\u001b[0m\u001b[1;33m\u001b[0m\u001b[1;33m\u001b[0m\u001b[0m\n\u001b[0;32m      3\u001b[0m         \u001b[0mquery\u001b[0m \u001b[1;33m=\u001b[0m \u001b[0ms\u001b[0m\u001b[1;33m.\u001b[0m\u001b[0mread\u001b[0m\u001b[1;33m(\u001b[0m\u001b[1;33m)\u001b[0m\u001b[1;33m\u001b[0m\u001b[1;33m\u001b[0m\u001b[0m\n\u001b[1;32m----> 4\u001b[1;33m         \u001b[0mcur\u001b[0m\u001b[1;33m.\u001b[0m\u001b[0mexecute\u001b[0m\u001b[1;33m(\u001b[0m\u001b[0mquery\u001b[0m\u001b[1;33m)\u001b[0m\u001b[1;33m\u001b[0m\u001b[1;33m\u001b[0m\u001b[0m\n\u001b[0m",
      "\u001b[1;31mInvalidForeignKey\u001b[0m: there is no unique constraint matching given keys for referenced table \"House\"\n"
     ]
    }
   ],
   "source": [
    "create_tables()"
   ]
  },
  {
   "source": [
    "## Export functions"
   ],
   "cell_type": "markdown",
   "metadata": {}
  },
  {
   "cell_type": "code",
   "execution_count": null,
   "metadata": {},
   "outputs": [],
   "source": []
  }
 ],
 "metadata": {
  "kernelspec": {
   "name": "python3",
   "display_name": "Python 3.9.1 64-bit ('env')",
   "metadata": {
    "interpreter": {
     "hash": "fcca2c7eb190291e5e2d8a624890ac6c3356d737f1fa9f7b97f9a609d678bde0"
    }
   }
  },
  "language_info": {
   "codemirror_mode": {
    "name": "ipython",
    "version": 3
   },
   "file_extension": ".py",
   "mimetype": "text/x-python",
   "name": "python",
   "nbconvert_exporter": "python",
   "pygments_lexer": "ipython3",
   "version": "3.9.1-final"
  }
 },
 "nbformat": 4,
 "nbformat_minor": 4
}