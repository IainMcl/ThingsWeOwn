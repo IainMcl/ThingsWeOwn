{
 "cells": [
  {
   "cell_type": "markdown",
   "metadata": {},
   "source": [
    "# Things we own database"
   ]
  },
  {
   "cell_type": "markdown",
   "metadata": {},
   "source": [
    "Postgress database to keep inventory of all of the things that we own in preparation for moving.\n",
    "\n",
    "Schema design saved on [DBDesigner](https://app.dbdesigner.net/designer/schema/401855)."
   ]
  },
  {
   "cell_type": "code",
   "execution_count": 32,
   "metadata": {},
   "outputs": [],
   "source": [
    "# imports\n",
    "import psycopg2\n",
    "import pandas as pd\n",
    "from contextlib import contextmanager\n",
    "from typing import Dict, List"
   ]
  },
  {
   "source": [
    "**Variables**\n",
    "\n",
    "Declaring databse variables to allow for connection."
   ],
   "cell_type": "markdown",
   "metadata": {}
  },
  {
   "cell_type": "code",
   "execution_count": 2,
   "metadata": {},
   "outputs": [],
   "source": [
    "# Variables\n",
    "database = \"House\"\n",
    "user = \"iainmcl\"\n",
    "password = \"empire\"\n",
    "host = \"127.0.0.1\"\n",
    "port = \"5433\""
   ]
  },
  {
   "source": [
    "## Context manager\n",
    "\n",
    "Create a context manager to handle connection to the postgres database and ensure that it is closed."
   ],
   "cell_type": "markdown",
   "metadata": {}
  },
  {
   "cell_type": "code",
   "execution_count": 3,
   "metadata": {},
   "outputs": [],
   "source": [
    "# Database context manger\n",
    "@contextmanager\n",
    "def connect(database=database, user=user, password=password, host=host, port=port):\n",
    "    conn = psycopg2.connect(database=database, user=user, password=password, host=host, port=port)\n",
    "    try:\n",
    "        yield conn\n",
    "    finally: \n",
    "        conn.close()"
   ]
  },
  {
   "source": [
    "## Setup functions\n",
    "\n",
    "- Create tables\n",
    "- Execute script"
   ],
   "cell_type": "markdown",
   "metadata": {}
  },
  {
   "cell_type": "code",
   "execution_count": 4,
   "metadata": {},
   "outputs": [],
   "source": [
    "def execute_script(cur, script):\n",
    "    with open(script) as s:\n",
    "        query = s.read()\n",
    "        cur.execute(query)"
   ]
  },
  {
   "cell_type": "code",
   "execution_count": 5,
   "metadata": {},
   "outputs": [],
   "source": [
    "def create_tables(sql_path=\"./scripts/HouseMoving_postgres_create.sql\"):\n",
    "    with connect() as conn:\n",
    "        cur = conn.cursor()\n",
    "        execute_script(cur, sql_path)\n",
    "        conn.commit()"
   ]
  },
  {
   "source": [
    "## Insert functions\n",
    "\n",
    "- add_person()"
   ],
   "cell_type": "markdown",
   "metadata": {}
  },
  {
   "cell_type": "code",
   "execution_count": 41,
   "metadata": {},
   "outputs": [],
   "source": [
    "def add_person(name:str, priority:int) -> Dict[str, int]:\n",
    "    with connect() as conn:\n",
    "        cur = conn.cursor()\n",
    "        cur.execute(f\"INSERT INTO \\\"Person\\\" values (\\'{name.lower()}\\', {priority.lower()});\")\n",
    "        conn.commit()\n",
    "    return {'name': name, 'priority': priority}"
   ]
  },
  {
   "cell_type": "code",
   "execution_count": 43,
   "metadata": {},
   "outputs": [],
   "source": [
    "def add_room(house: str, room: str) -> Dict[str, str]:\n",
    "    with connect() as conn:\n",
    "        cur = conn.cursor()\n",
    "        cur.execute(f\"INSERT INTO \\\"House\\\" values (\\'{house.lower()} {room.lower()}\\',\\'{house.lower()}\\', \\'{room.lower()}\\');\")\n",
    "        conn.commit()\n",
    "    return {'house': house, 'room': room}"
   ]
  },
  {
   "cell_type": "code",
   "execution_count": 57,
   "metadata": {},
   "outputs": [],
   "source": [
    "def add_item(name:str, room:str, owner:str, value=0, quant:int=1, size:str='medium', priority: int=0, fragile:bool=False, owned:bool=True, moved:bool=False, keeping:bool=True, notes:str=\"\"):\n",
    "    with connect() as conn:\n",
    "        cur = conn.cursor()\n",
    "        cur.execute(f\"\"\"\n",
    "            INSERT INTO \\\"Item\\\" values(\n",
    "                \\'{name}\\',\n",
    "                {quant},\n",
    "                \\'{size}\\',\n",
    "                {priority},\n",
    "                {fragile},\n",
    "                {owned},\n",
    "                {moved},\n",
    "                {keeping},\n",
    "                {value},\n",
    "                \\'{owner}\\',\n",
    "                \\'{notes}\\',\n",
    "                \\'{room.lower()}\\'\n",
    "                )\"\"\")\n",
    "        conn.commit()\n",
    "    "
   ]
  },
  {
   "source": [
    "## Select functions\n",
    "\n",
    "- Select all\n"
   ],
   "cell_type": "markdown",
   "metadata": {}
  },
  {
   "cell_type": "code",
   "execution_count": 95,
   "metadata": {},
   "outputs": [],
   "source": [
    "def select_all(table_name=\"Items\", outfile=False):\n",
    "    with connect() as conn:\n",
    "        cur = conn.cursor()\n",
    "        execute_script(cur, \"./scripts/select_all.sql\")\n",
    "        data = cur.fetchall()\n",
    "    return data        "
   ]
  },
  {
   "cell_type": "code",
   "execution_count": 63,
   "metadata": {},
   "outputs": [],
   "source": [
    "def get_room_options(outfile=False):\n",
    "    with connect() as conn:\n",
    "        cur = conn.cursor()\n",
    "        cur.execute(\"SELECT \\\"HouseName\\\", \\\"Room\\\" FROM \\\"House\\\";\")\n",
    "        data = cur.fetchall()\n",
    "    return data"
   ]
  },
  {
   "cell_type": "code",
   "execution_count": 65,
   "metadata": {},
   "outputs": [],
   "source": [
    "def get_person_options(outfile=False):\n",
    "    with connect() as conn:\n",
    "        cur.conn.cursor()\n",
    "        cur.execute(\"SELECT \\\"Name\\\" FROM PERSON;\")\n",
    "        data = cur.fetchall()\n",
    "    return data"
   ]
  },
  {
   "cell_type": "code",
   "execution_count": 66,
   "metadata": {},
   "outputs": [],
   "source": [
    "def get_items():\n",
    "    with connect() as conn:\n",
    "        cur = conn.cursor()\n",
    "        cur.execute(\"SELECT \\\"ItemName\\\" FROM \\\"Item\\\";\")\n",
    "        data = cur.fetchall()\n",
    "    return data"
   ]
  },
  {
   "source": [
    "## Delete functions"
   ],
   "cell_type": "markdown",
   "metadata": {}
  },
  {
   "cell_type": "code",
   "execution_count": 81,
   "metadata": {},
   "outputs": [],
   "source": [
    "def delete_person(name):\n",
    "    with connect() as conn:\n",
    "        cur = conn.cursor()\n",
    "        cur.execute(f\"DELETE FROM \\\"Person\\\" WHERE \\\"Name\\\" = \\'{name}\\';\")\n",
    "        conn.commit()\n",
    "    return name"
   ]
  },
  {
   "cell_type": "code",
   "execution_count": 89,
   "metadata": {},
   "outputs": [],
   "source": [
    "def delete_item(ItemName):\n",
    "    with connect() as conn:\n",
    "        cur = conn.cursor()\n",
    "        cur.execute(f\"DELETE FROM \\\"Item\\\" WHERE \\\"ItemName\\\" = \\'{ItemName}\\';\")\n",
    "        conn.commit()\n",
    "    return ItemName"
   ]
  },
  {
   "cell_type": "code",
   "execution_count": 96,
   "metadata": {},
   "outputs": [],
   "source": [
    "def delete_room(house_room):\n",
    "    with connect() as conn:\n",
    "        cur = conn.cursor()\n",
    "        cur.execute(f\"DELETE FROM \\\"House\\\" WHERE \\\"House_pk\\\" = \\'{house_room}\\';\")\n",
    "        conn.commit()\n",
    "    return house_room"
   ]
  },
  {
   "cell_type": "code",
   "execution_count": 7,
   "metadata": {},
   "outputs": [],
   "source": [
    "def drop_all():\n",
    "    with connect() as conn:\n",
    "        cur = conn.cursor()\n",
    "        execute_script(cur, \"./scripts/drop_all.sql\")\n",
    "        conn.commit()"
   ]
  },
  {
   "cell_type": "code",
   "execution_count": 15,
   "metadata": {},
   "outputs": [],
   "source": [
    "try:\n",
    "    drop_all()\n",
    "except Exception as e:\n",
    "    print(\"Table already dropped.\")\n",
    "    print(\"\\t-\", e)"
   ]
  },
  {
   "cell_type": "code",
   "execution_count": 21,
   "metadata": {},
   "outputs": [],
   "source": [
    "create_tables()"
   ]
  },
  {
   "cell_type": "code",
   "execution_count": 38,
   "metadata": {},
   "outputs": [
    {
     "output_type": "execute_result",
     "data": {
      "text/plain": [
       "{'name': 'Eddie', 'priority': 3}"
      ]
     },
     "metadata": {},
     "execution_count": 38
    }
   ],
   "source": [
    "add_person('Eddie', 3)"
   ]
  },
  {
   "cell_type": "code",
   "execution_count": 44,
   "metadata": {},
   "outputs": [
    {
     "output_type": "execute_result",
     "data": {
      "text/plain": [
       "{'house': 'flat', 'room': 'living room'}"
      ]
     },
     "metadata": {},
     "execution_count": 44
    }
   ],
   "source": [
    "add_room('flat', 'living room')"
   ]
  },
  {
   "cell_type": "code",
   "execution_count": 58,
   "metadata": {},
   "outputs": [],
   "source": [
    "add_item('TV', 'flat living room', 'katie')"
   ]
  },
  {
   "cell_type": "code",
   "execution_count": 90,
   "metadata": {},
   "outputs": [],
   "source": [
    "delete_item('TV')"
   ]
  },
  {
   "cell_type": "code",
   "execution_count": 94,
   "metadata": {},
   "outputs": [
    {
     "output_type": "stream",
     "name": "stdout",
     "text": [
      "[(None, None, None, None, None, None, None, None, None, None, None, None, 'katie', 5, None, None, None), (None, None, None, None, None, None, None, None, None, None, None, None, None, None, 'flat living room', 'flat', 'living room')]\n"
     ]
    }
   ],
   "source": [
    "select_all()"
   ]
  },
  {
   "source": [
    "## Export functions"
   ],
   "cell_type": "markdown",
   "metadata": {}
  },
  {
   "cell_type": "code",
   "execution_count": null,
   "metadata": {},
   "outputs": [],
   "source": []
  }
 ],
 "metadata": {
  "kernelspec": {
   "name": "python3",
   "display_name": "Python 3.9.1 64-bit ('env')",
   "metadata": {
    "interpreter": {
     "hash": "fcca2c7eb190291e5e2d8a624890ac6c3356d737f1fa9f7b97f9a609d678bde0"
    }
   }
  },
  "language_info": {
   "codemirror_mode": {
    "name": "ipython",
    "version": 3
   },
   "file_extension": ".py",
   "mimetype": "text/x-python",
   "name": "python",
   "nbconvert_exporter": "python",
   "pygments_lexer": "ipython3",
   "version": "3.9.1-final"
  }
 },
 "nbformat": 4,
 "nbformat_minor": 4
}